{
 "cells": [
  {
   "cell_type": "code",
   "execution_count": null,
   "metadata": {},
   "outputs": [],
   "source": [
    "import cv2\n",
    "from mahotas.features import surf, haralick\n",
    "from skimage.feature import hog\n",
    "from skimage.feature import local_binary_pattern as lbp\n",
    "import numpy as np"
   ]
  },
  {
   "cell_type": "code",
   "execution_count": null,
   "metadata": {},
   "outputs": [],
   "source": [
    "def LBP(numPoints, radius, image, eps=1e-7):\n",
    "    m_lbp = lbp(image, numPoints, radius, method=\"uniform\")\n",
    "    (hist, _) = np.histogram(m_lbp.ravel(), bins=np.arange(0, numPoints + 3), range=(0, numPoints + 2))\n",
    "    # normalize the histogram\n",
    "    hist = hist.astype(\"float\")\n",
    "    hist /= (hist.sum() + eps)\n",
    "    print(hist.shape)\n",
    "    return hist.ravel()"
   ]
  },
  {
   "cell_type": "code",
   "execution_count": null,
   "metadata": {},
   "outputs": [],
   "source": [
    "def H_Tex(image, eps=1e-7):\n",
    "    m_haralick = haralick(image)\n",
    "    assert m_haralick.shape == (4,13)\n",
    "    # normalize wrt each row\n",
    "    row_sum = m_haralick.sum(axis=1)\n",
    "    m_haralick = m_haralick/(row_sum[:,np.newaxis] + eps)\n",
    "    print(m_haralick.shape)\n",
    "    return m_haralick.ravel()"
   ]
  },
  {
   "cell_type": "code",
   "execution_count": null,
   "metadata": {},
   "outputs": [],
   "source": [
    "def SURF(image):\n",
    "    m_surf = surf.surf(image, max_points=512, descriptor_only=True)\n",
    "    m_surf = m_surf[:10,:]\n",
    "    print(m_surf.shape)\n",
    "    return m_surf.ravel()"
   ]
  },
  {
   "cell_type": "code",
   "execution_count": null,
   "metadata": {},
   "outputs": [],
   "source": [
    "def HOG(image):\n",
    "    img = cv2.resize(image, (55,55))\n",
    "    m_hog = hog(img, block_norm='L1')\n",
    "    print(m_hog.shape)\n",
    "    return m_hog"
   ]
  },
  {
   "cell_type": "code",
   "execution_count": null,
   "metadata": {},
   "outputs": [],
   "source": [
    "def feature_vector(image):\n",
    "    x = []\n",
    "    x.extend(LBP(24,8,image))\n",
    "    x.extend(H_Tex(image))\n",
    "    x.extend(SURF(image))\n",
    "    x.extend(HOG(image))\n",
    "    \n",
    "    x = np.asarray(x)\n",
    "    return x"
   ]
  },
  {
   "cell_type": "code",
   "execution_count": null,
   "metadata": {},
   "outputs": [],
   "source": [
    "img = cv2.imread('images/train/BabyBibs/BabyBibs_17.jpg', 0)\n",
    "feature = feature_vector(img)\n",
    "print(feature.shape)"
   ]
  },
  {
   "cell_type": "code",
   "execution_count": null,
   "metadata": {},
   "outputs": [],
   "source": []
  }
 ],
 "metadata": {
  "kernelspec": {
   "display_name": "Python 3",
   "language": "python",
   "name": "python3"
  },
  "language_info": {
   "codemirror_mode": {
    "name": "ipython",
    "version": 3
   },
   "file_extension": ".py",
   "mimetype": "text/x-python",
   "name": "python",
   "nbconvert_exporter": "python",
   "pygments_lexer": "ipython3",
   "version": "3.6.4"
  }
 },
 "nbformat": 4,
 "nbformat_minor": 2
}
