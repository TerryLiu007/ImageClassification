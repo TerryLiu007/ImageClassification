{
 "cells": [
  {
   "cell_type": "code",
   "execution_count": 1,
   "metadata": {},
   "outputs": [
    {
     "name": "stderr",
     "output_type": "stream",
     "text": [
      "/usr/local/lib/python3.6/site-packages/h5py/__init__.py:36: FutureWarning: Conversion of the second argument of issubdtype from `float` to `np.floating` is deprecated. In future, it will be treated as `np.float64 == np.dtype(float).type`.\n",
      "  from ._conv import register_converters as _register_converters\n",
      "Using TensorFlow backend.\n"
     ]
    }
   ],
   "source": [
    "from keras.models import Sequential\n",
    "from keras.layers import Conv2D, MaxPooling2D\n",
    "from keras.layers import Activation, Dropout, Flatten, Dense\n",
    "from keras import optimizers\n",
    "from input_preparation import ImageDataGenerator\n",
    "from keras.models import Model, load_model\n",
    "from keras.callbacks import ModelCheckpoint, LearningRateScheduler, TensorBoard, EarlyStopping\n",
    "\n",
    "from feature_preprocess import feature_vector\n",
    "from input_preparation import *\n",
    "\n",
    "from IPython.display import SVG\n",
    "from keras.utils.vis_utils import model_to_dot\n",
    "from keras.utils.vis_utils import plot_model\n",
    "import matplotlib.pyplot as plt\n",
    "import numpy as np"
   ]
  },
  {
   "cell_type": "code",
   "execution_count": 2,
   "metadata": {},
   "outputs": [
    {
     "name": "stdout",
     "output_type": "stream",
     "text": [
      "_________________________________________________________________\n",
      "Layer (type)                 Output Shape              Param #   \n",
      "=================================================================\n",
      "f_dense1 (Dense)             (None, 2048)              4126720   \n",
      "_________________________________________________________________\n",
      "f_activation1 (Activation)   (None, 2048)              0         \n",
      "_________________________________________________________________\n",
      "f_dropout1 (Dropout)         (None, 2048)              0         \n",
      "_________________________________________________________________\n",
      "f_dense2 (Dense)             (None, 1024)              2098176   \n",
      "_________________________________________________________________\n",
      "f_activation2 (Activation)   (None, 1024)              0         \n",
      "_________________________________________________________________\n",
      "f_dropout2 (Dropout)         (None, 1024)              0         \n",
      "_________________________________________________________________\n",
      "f_output (Dense)             (None, 18)                18450     \n",
      "=================================================================\n",
      "Total params: 6,243,346\n",
      "Trainable params: 6,243,346\n",
      "Non-trainable params: 0\n",
      "_________________________________________________________________\n"
     ]
    }
   ],
   "source": [
    "model = Sequential()\n",
    "model.add(Dense(2048, input_shape=(2014,), name='f_dense1'))\n",
    "model.add(Activation('relu', name='f_activation1'))\n",
    "model.add(Dropout(0.6, name='f_dropout1'))\n",
    "model.add(Dense(1024, name='f_dense2'))\n",
    "model.add(Activation('relu', name='f_activation2'))\n",
    "model.add(Dropout(0.6, name='f_dropout2'))\n",
    "model.add(Dense(18, activation='softmax', name='f_output'))\n",
    "\n",
    "model.compile(loss=\"categorical_crossentropy\", optimizer=optimizers.SGD(lr=1e-4, momentum=0.9), metrics=[\"accuracy\"])\n",
    "model.summary()"
   ]
  },
  {
   "cell_type": "code",
   "execution_count": 3,
   "metadata": {},
   "outputs": [],
   "source": [
    "model_origin = load_model('models/feature_network.h5')"
   ]
  },
  {
   "cell_type": "code",
   "execution_count": 4,
   "metadata": {},
   "outputs": [],
   "source": [
    "model_origin.save_weights('feature_network_weights.h5')"
   ]
  },
  {
   "cell_type": "code",
   "execution_count": 6,
   "metadata": {},
   "outputs": [],
   "source": [
    "model.load_weights('feature_network_weights.h5')"
   ]
  },
  {
   "cell_type": "code",
   "execution_count": 7,
   "metadata": {},
   "outputs": [],
   "source": [
    "from resnets_utils import*\n",
    "\n",
    "# initiate the train and validation generators with data augumentation\n",
    "X_train, Y_train_orig, X_test, Y_test_orig = load_dataset()\n",
    "\n",
    "# Convert training and test labels to one hot matrices\n",
    "Y_train = convert_to_one_hot(Y_train_orig, 18)\n",
    "Y_test = convert_to_one_hot(Y_test_orig, 18)"
   ]
  },
  {
   "cell_type": "code",
   "execution_count": 8,
   "metadata": {},
   "outputs": [
    {
     "name": "stdout",
     "output_type": "stream",
     "text": [
      "5723/5723 [==============================] - 1s 179us/step\n"
     ]
    },
    {
     "data": {
      "text/plain": [
       "[1.6176275961802762, 0.4787698758558733]"
      ]
     },
     "execution_count": 8,
     "metadata": {},
     "output_type": "execute_result"
    }
   ],
   "source": [
    "model.evaluate(X_test, Y_test)"
   ]
  },
  {
   "cell_type": "code",
   "execution_count": 9,
   "metadata": {},
   "outputs": [],
   "source": [
    "model.save('feature_network_rename')"
   ]
  },
  {
   "cell_type": "code",
   "execution_count": null,
   "metadata": {},
   "outputs": [],
   "source": []
  }
 ],
 "metadata": {
  "kernelspec": {
   "display_name": "Python 3",
   "language": "python",
   "name": "python3"
  },
  "language_info": {
   "codemirror_mode": {
    "name": "ipython",
    "version": 3
   },
   "file_extension": ".py",
   "mimetype": "text/x-python",
   "name": "python",
   "nbconvert_exporter": "python",
   "pygments_lexer": "ipython3",
   "version": "3.6.4"
  }
 },
 "nbformat": 4,
 "nbformat_minor": 2
}
