{
 "cells": [
  {
   "cell_type": "code",
   "execution_count": null,
   "metadata": {},
   "outputs": [],
   "source": [
    "import numpy as np\n",
    "from matplotlib import pyplot as plt\n",
    "import h5py\n",
    "from os.path import join\n",
    "from resnets_utils import *"
   ]
  },
  {
   "cell_type": "code",
   "execution_count": null,
   "metadata": {},
   "outputs": [],
   "source": [
    "category = {'BabyBibs' : 0,\n",
    "            'BabyHat' : 1,\n",
    "            'BabyPants' : 2,\n",
    "            'BabyShirt' : 3,\n",
    "            'PackageFart' : 4,\n",
    "            'womanshirtsleeve' : 5,\n",
    "            'womencasualshoes' : 6,\n",
    "            'womenchiffontop' : 7,\n",
    "            'womendollshoes' : 8,\n",
    "            'womenknittedtop' : 9,\n",
    "            'womenlazyshoes' : 10,\n",
    "            'womenlongsleevetop' : 11,\n",
    "            'womenpeashoes' : 12,\n",
    "            'womenplussizedtop' : 13,\n",
    "            'womenpointedflatshoes' : 14,\n",
    "            'womensleevelesstop' : 15,\n",
    "            'womenstripedtop' : 16,\n",
    "            'wrapsnslings' : 17}"
   ]
  },
  {
   "cell_type": "code",
   "execution_count": null,
   "metadata": {},
   "outputs": [],
   "source": [
    "category = {num : char for char, num in category.items()}"
   ]
  },
  {
   "cell_type": "code",
   "execution_count": null,
   "metadata": {},
   "outputs": [],
   "source": [
    "f = h5py.File(join('dataset', 'dev_feature.h5'),'r')\n",
    "dev_x = f['dev_set_x']\n",
    "dev_y = f['dev_set_y']\n",
    "\n",
    "print(dev_x.shape)\n",
    "print(dev_y.shape)"
   ]
  },
  {
   "cell_type": "code",
   "execution_count": null,
   "metadata": {},
   "outputs": [],
   "source": [
    "f_train = h5py.File(join('dataset', 'train_feature.h5'),'r')\n",
    "train_x = f_train['train_set_x']\n",
    "train_y = f_train['train_set_y']\n",
    "\n",
    "print(train_x.shape)\n",
    "print(train_y.shape)"
   ]
  },
  {
   "cell_type": "code",
   "execution_count": null,
   "metadata": {},
   "outputs": [],
   "source": [
    "dev_Y = convert_to_one_hot(np.array([dev_y]), 18)\n",
    "train_Y = convert_to_one_hot(np.array([train_y]), 18)"
   ]
  },
  {
   "cell_type": "code",
   "execution_count": null,
   "metadata": {},
   "outputs": [],
   "source": [
    "image_index = 5000\n",
    "\n",
    "plt.subplot(121)\n",
    "plt.imshow(dev_x[image_index])\n",
    "print(category[int(dev_y[image_index])])\n",
    "print(dev_Y[image_index])\n",
    "\n",
    "plt.subplot(122)\n",
    "plt.imshow(train_x[image_index])\n",
    "print(category[int(train_y[image_index])])\n",
    "print(train_Y[image_index])"
   ]
  },
  {
   "cell_type": "code",
   "execution_count": null,
   "metadata": {},
   "outputs": [],
   "source": [
    "print(dev_x[1,1,1,1])"
   ]
  },
  {
   "cell_type": "code",
   "execution_count": null,
   "metadata": {},
   "outputs": [],
   "source": []
  }
 ],
 "metadata": {
  "kernelspec": {
   "display_name": "Python 3",
   "language": "python",
   "name": "python3"
  },
  "language_info": {
   "codemirror_mode": {
    "name": "ipython",
    "version": 3
   },
   "file_extension": ".py",
   "mimetype": "text/x-python",
   "name": "python",
   "nbconvert_exporter": "python",
   "pygments_lexer": "ipython3",
   "version": "3.6.4"
  }
 },
 "nbformat": 4,
 "nbformat_minor": 2
}
