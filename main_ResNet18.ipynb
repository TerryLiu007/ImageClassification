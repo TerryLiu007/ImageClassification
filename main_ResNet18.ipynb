{
 "cells": [
  {
   "cell_type": "markdown",
   "metadata": {},
   "source": [
    "# Residual Networks"
   ]
  },
  {
   "cell_type": "code",
   "execution_count": 1,
   "metadata": {},
   "outputs": [
    {
     "name": "stderr",
     "output_type": "stream",
     "text": [
      "/usr/local/lib/python3.6/site-packages/h5py/__init__.py:36: FutureWarning: Conversion of the second argument of issubdtype from `float` to `np.floating` is deprecated. In future, it will be treated as `np.float64 == np.dtype(float).type`.\n",
      "  from ._conv import register_converters as _register_converters\n",
      "Using TensorFlow backend.\n"
     ]
    }
   ],
   "source": [
    "from keras.models import Model, load_model\n",
    "from keras.preprocessing import image\n",
    "from keras.optimizers import Adam, SGD\n",
    "from keras.callbacks import ModelCheckpoint, LearningRateScheduler, TensorBoard, EarlyStopping\n",
    "\n",
    "import keras.backend as K\n",
    "K.set_image_data_format('channels_last')\n",
    "\n",
    "from IPython.display import SVG\n",
    "from keras.utils.vis_utils import model_to_dot\n",
    "from keras.utils.vis_utils import plot_model\n",
    "import matplotlib.pyplot as plt"
   ]
  },
  {
   "cell_type": "code",
   "execution_count": 2,
   "metadata": {},
   "outputs": [
    {
     "name": "stdout",
     "output_type": "stream",
     "text": [
      "__________________________________________________________________________________________________\n",
      "Layer (type)                    Output Shape         Param #     Connected to                     \n",
      "==================================================================================================\n",
      "input_1 (InputLayer)            (None, 64, 64, 1)    0                                            \n",
      "__________________________________________________________________________________________________\n",
      "conv1 (Conv2D)                  (None, 32, 32, 64)   3200        input_1[0][0]                    \n",
      "__________________________________________________________________________________________________\n",
      "bn_conv1 (BatchNormalization)   (None, 32, 32, 64)   256         conv1[0][0]                      \n",
      "__________________________________________________________________________________________________\n",
      "activation_1 (Activation)       (None, 32, 32, 64)   0           bn_conv1[0][0]                   \n",
      "__________________________________________________________________________________________________\n",
      "max_pooling2d_1 (MaxPooling2D)  (None, 16, 16, 64)   0           activation_1[0][0]               \n",
      "__________________________________________________________________________________________________\n",
      "res2a_branch2a (Conv2D)         (None, 16, 16, 64)   36928       max_pooling2d_1[0][0]            \n",
      "__________________________________________________________________________________________________\n",
      "bn2a_branch2b (BatchNormalizati (None, 16, 16, 64)   256         res2a_branch2a[0][0]             \n",
      "__________________________________________________________________________________________________\n",
      "activation_2 (Activation)       (None, 16, 16, 64)   0           bn2a_branch2b[0][0]              \n",
      "__________________________________________________________________________________________________\n",
      "res2a_branch2b (Conv2D)         (None, 16, 16, 64)   36928       activation_2[0][0]               \n",
      "__________________________________________________________________________________________________\n",
      "res2a_branch1 (Conv2D)          (None, 16, 16, 64)   4160        max_pooling2d_1[0][0]            \n",
      "__________________________________________________________________________________________________\n",
      "add_1 (Add)                     (None, 16, 16, 64)   0           res2a_branch2b[0][0]             \n",
      "                                                                 res2a_branch1[0][0]              \n",
      "__________________________________________________________________________________________________\n",
      "bn2b_branch2a (BatchNormalizati (None, 16, 16, 64)   256         add_1[0][0]                      \n",
      "__________________________________________________________________________________________________\n",
      "activation_3 (Activation)       (None, 16, 16, 64)   0           bn2b_branch2a[0][0]              \n",
      "__________________________________________________________________________________________________\n",
      "res2b_branch2a (Conv2D)         (None, 16, 16, 64)   36928       activation_3[0][0]               \n",
      "__________________________________________________________________________________________________\n",
      "bn2b_branch2b (BatchNormalizati (None, 16, 16, 64)   256         res2b_branch2a[0][0]             \n",
      "__________________________________________________________________________________________________\n",
      "activation_4 (Activation)       (None, 16, 16, 64)   0           bn2b_branch2b[0][0]              \n",
      "__________________________________________________________________________________________________\n",
      "res2b_branch2b (Conv2D)         (None, 16, 16, 64)   36928       activation_4[0][0]               \n",
      "__________________________________________________________________________________________________\n",
      "add_2 (Add)                     (None, 16, 16, 64)   0           res2b_branch2b[0][0]             \n",
      "                                                                 add_1[0][0]                      \n",
      "__________________________________________________________________________________________________\n",
      "bn3a_branch2a (BatchNormalizati (None, 16, 16, 64)   256         add_2[0][0]                      \n",
      "__________________________________________________________________________________________________\n",
      "activation_5 (Activation)       (None, 16, 16, 64)   0           bn3a_branch2a[0][0]              \n",
      "__________________________________________________________________________________________________\n",
      "res3a_branch2a (Conv2D)         (None, 8, 8, 128)    73856       activation_5[0][0]               \n",
      "__________________________________________________________________________________________________\n",
      "bn3a_branch2b (BatchNormalizati (None, 8, 8, 128)    512         res3a_branch2a[0][0]             \n",
      "__________________________________________________________________________________________________\n",
      "activation_6 (Activation)       (None, 8, 8, 128)    0           bn3a_branch2b[0][0]              \n",
      "__________________________________________________________________________________________________\n",
      "res3a_branch2b (Conv2D)         (None, 8, 8, 128)    147584      activation_6[0][0]               \n",
      "__________________________________________________________________________________________________\n",
      "res3a_branch1 (Conv2D)          (None, 8, 8, 128)    8320        add_2[0][0]                      \n",
      "__________________________________________________________________________________________________\n",
      "add_3 (Add)                     (None, 8, 8, 128)    0           res3a_branch2b[0][0]             \n",
      "                                                                 res3a_branch1[0][0]              \n",
      "__________________________________________________________________________________________________\n",
      "bn3b_branch2a (BatchNormalizati (None, 8, 8, 128)    512         add_3[0][0]                      \n",
      "__________________________________________________________________________________________________\n",
      "activation_7 (Activation)       (None, 8, 8, 128)    0           bn3b_branch2a[0][0]              \n",
      "__________________________________________________________________________________________________\n",
      "res3b_branch2a (Conv2D)         (None, 8, 8, 128)    147584      activation_7[0][0]               \n",
      "__________________________________________________________________________________________________\n",
      "bn3b_branch2b (BatchNormalizati (None, 8, 8, 128)    512         res3b_branch2a[0][0]             \n",
      "__________________________________________________________________________________________________\n",
      "activation_8 (Activation)       (None, 8, 8, 128)    0           bn3b_branch2b[0][0]              \n",
      "__________________________________________________________________________________________________\n",
      "res3b_branch2b (Conv2D)         (None, 8, 8, 128)    147584      activation_8[0][0]               \n",
      "__________________________________________________________________________________________________\n",
      "add_4 (Add)                     (None, 8, 8, 128)    0           res3b_branch2b[0][0]             \n",
      "                                                                 add_3[0][0]                      \n",
      "__________________________________________________________________________________________________\n",
      "bn4a_branch2a (BatchNormalizati (None, 8, 8, 128)    512         add_4[0][0]                      \n",
      "__________________________________________________________________________________________________\n",
      "activation_9 (Activation)       (None, 8, 8, 128)    0           bn4a_branch2a[0][0]              \n",
      "__________________________________________________________________________________________________\n",
      "res4a_branch2a (Conv2D)         (None, 4, 4, 256)    295168      activation_9[0][0]               \n",
      "__________________________________________________________________________________________________\n",
      "bn4a_branch2b (BatchNormalizati (None, 4, 4, 256)    1024        res4a_branch2a[0][0]             \n",
      "__________________________________________________________________________________________________\n",
      "activation_10 (Activation)      (None, 4, 4, 256)    0           bn4a_branch2b[0][0]              \n",
      "__________________________________________________________________________________________________\n",
      "res4a_branch2b (Conv2D)         (None, 4, 4, 256)    590080      activation_10[0][0]              \n",
      "__________________________________________________________________________________________________\n",
      "res4a_branch1 (Conv2D)          (None, 4, 4, 256)    33024       add_4[0][0]                      \n",
      "__________________________________________________________________________________________________\n",
      "add_5 (Add)                     (None, 4, 4, 256)    0           res4a_branch2b[0][0]             \n",
      "                                                                 res4a_branch1[0][0]              \n",
      "__________________________________________________________________________________________________\n",
      "bn4b_branch2a (BatchNormalizati (None, 4, 4, 256)    1024        add_5[0][0]                      \n",
      "__________________________________________________________________________________________________\n",
      "activation_11 (Activation)      (None, 4, 4, 256)    0           bn4b_branch2a[0][0]              \n",
      "__________________________________________________________________________________________________\n",
      "res4b_branch2a (Conv2D)         (None, 4, 4, 256)    590080      activation_11[0][0]              \n",
      "__________________________________________________________________________________________________\n",
      "bn4b_branch2b (BatchNormalizati (None, 4, 4, 256)    1024        res4b_branch2a[0][0]             \n",
      "__________________________________________________________________________________________________\n",
      "activation_12 (Activation)      (None, 4, 4, 256)    0           bn4b_branch2b[0][0]              \n",
      "__________________________________________________________________________________________________\n",
      "res4b_branch2b (Conv2D)         (None, 4, 4, 256)    590080      activation_12[0][0]              \n",
      "__________________________________________________________________________________________________\n",
      "add_6 (Add)                     (None, 4, 4, 256)    0           res4b_branch2b[0][0]             \n",
      "                                                                 add_5[0][0]                      \n",
      "__________________________________________________________________________________________________\n",
      "bn5a_branch2a (BatchNormalizati (None, 4, 4, 256)    1024        add_6[0][0]                      \n",
      "__________________________________________________________________________________________________\n",
      "activation_13 (Activation)      (None, 4, 4, 256)    0           bn5a_branch2a[0][0]              \n",
      "__________________________________________________________________________________________________\n",
      "res5a_branch2a (Conv2D)         (None, 2, 2, 512)    1180160     activation_13[0][0]              \n",
      "__________________________________________________________________________________________________\n",
      "bn5a_branch2b (BatchNormalizati (None, 2, 2, 512)    2048        res5a_branch2a[0][0]             \n",
      "__________________________________________________________________________________________________\n",
      "activation_14 (Activation)      (None, 2, 2, 512)    0           bn5a_branch2b[0][0]              \n",
      "__________________________________________________________________________________________________\n",
      "res5a_branch2b (Conv2D)         (None, 2, 2, 512)    2359808     activation_14[0][0]              \n",
      "__________________________________________________________________________________________________\n",
      "res5a_branch1 (Conv2D)          (None, 2, 2, 512)    131584      add_6[0][0]                      \n",
      "__________________________________________________________________________________________________\n",
      "add_7 (Add)                     (None, 2, 2, 512)    0           res5a_branch2b[0][0]             \n",
      "                                                                 res5a_branch1[0][0]              \n",
      "__________________________________________________________________________________________________\n",
      "bn5b_branch2a (BatchNormalizati (None, 2, 2, 512)    2048        add_7[0][0]                      \n",
      "__________________________________________________________________________________________________\n",
      "activation_15 (Activation)      (None, 2, 2, 512)    0           bn5b_branch2a[0][0]              \n",
      "__________________________________________________________________________________________________\n",
      "res5b_branch2a (Conv2D)         (None, 2, 2, 512)    2359808     activation_15[0][0]              \n",
      "__________________________________________________________________________________________________\n",
      "bn5b_branch2b (BatchNormalizati (None, 2, 2, 512)    2048        res5b_branch2a[0][0]             \n",
      "__________________________________________________________________________________________________\n",
      "activation_16 (Activation)      (None, 2, 2, 512)    0           bn5b_branch2b[0][0]              \n",
      "__________________________________________________________________________________________________\n",
      "res5b_branch2b (Conv2D)         (None, 2, 2, 512)    2359808     activation_16[0][0]              \n",
      "__________________________________________________________________________________________________\n",
      "add_8 (Add)                     (None, 2, 2, 512)    0           res5b_branch2b[0][0]             \n",
      "                                                                 add_7[0][0]                      \n",
      "__________________________________________________________________________________________________\n",
      "bn_conv6 (BatchNormalization)   (None, 2, 2, 512)    2048        add_8[0][0]                      \n",
      "__________________________________________________________________________________________________\n",
      "activation_17 (Activation)      (None, 2, 2, 512)    0           bn_conv6[0][0]                   \n",
      "__________________________________________________________________________________________________\n",
      "avg_pool (AveragePooling2D)     (None, 1, 1, 512)    0           activation_17[0][0]              \n",
      "__________________________________________________________________________________________________\n",
      "flatten_1 (Flatten)             (None, 512)          0           avg_pool[0][0]                   \n",
      "__________________________________________________________________________________________________\n",
      "fc18 (Dense)                    (None, 18)           9234        flatten_1[0][0]                  \n",
      "==================================================================================================\n",
      "Total params: 11,194,450\n",
      "Trainable params: 11,186,642\n",
      "Non-trainable params: 7,808\n",
      "__________________________________________________________________________________________________\n"
     ]
    }
   ],
   "source": [
    "# load the saved model\n",
    "model = load_model('models/ResNet18.h5')\n",
    "model.summary()"
   ]
  },
  {
   "cell_type": "code",
   "execution_count": null,
   "metadata": {},
   "outputs": [],
   "source": [
    "# we still use adam optimizer\n",
    "\n",
    "# sgd = SGD(lr=0.1, decay=1e-6, momentum=0.9, nesterov=True)\n",
    "# model.compile(optimizer=sgd, loss='categorical_crossentropy', metrics=['accuracy'])"
   ]
  },
  {
   "cell_type": "code",
   "execution_count": 3,
   "metadata": {
    "scrolled": true
   },
   "outputs": [],
   "source": [
    "# load dataset\n",
    "img_width, img_height = 64, 64\n",
    "train_data_dir = \"images/train_gray64\"\n",
    "validation_data_dir = \"images/dev_gray64\"\n",
    "nb_train_samples = 30580\n",
    "nb_validation_samples = 7631\n",
    "batch_size = 32\n",
    "epochs = 100"
   ]
  },
  {
   "cell_type": "code",
   "execution_count": 4,
   "metadata": {
    "scrolled": false
   },
   "outputs": [
    {
     "name": "stdout",
     "output_type": "stream",
     "text": [
      "Found 30580 images belonging to 18 classes.\n",
      "Found 7631 images belonging to 18 classes.\n"
     ]
    }
   ],
   "source": [
    "# initiate the train and validation generators with data augumentation\n",
    "train_datagen = image.ImageDataGenerator(\n",
    "        rotation_range=30,\n",
    "        width_shift_range=0.2,\n",
    "        height_shift_range=0.2,\n",
    "        shear_range=0.2,\n",
    "        zoom_range=0.2,\n",
    "        horizontal_flip=True,\n",
    "        rescale=1./255,\n",
    "        fill_mode='nearest')\n",
    "\n",
    "valid_datagen = image.ImageDataGenerator(rescale=1./255)\n",
    "\n",
    "train_generator = train_datagen.flow_from_directory(\n",
    "        train_data_dir,\n",
    "        target_size=(img_height, img_width),\n",
    "        batch_size=batch_size,\n",
    "        color_mode='grayscale',\n",
    "        class_mode='categorical')\n",
    "\n",
    "validation_generator = valid_datagen.flow_from_directory(\n",
    "        validation_data_dir,\n",
    "        target_size=(img_height, img_width),\n",
    "        batch_size=batch_size,\n",
    "        color_mode='grayscale',\n",
    "        class_mode='categorical')\n",
    "\n",
    "# save the model according to the conditions\n",
    "checkpoint = ModelCheckpoint(\"models/main_ResNet18.h5\", monitor='val_acc', verbose=1, save_best_only=True, save_weights_only=False, mode='auto', period=1)\n",
    "early = EarlyStopping(monitor='val_acc', min_delta=0, patience=10, verbose=1, mode='auto')"
   ]
  },
  {
   "cell_type": "code",
   "execution_count": 5,
   "metadata": {},
   "outputs": [
    {
     "name": "stdout",
     "output_type": "stream",
     "text": [
      "{'BabyBibs': 0, 'BabyHat': 1, 'BabyPants': 2, 'BabyShirt': 3, 'PackageFart': 4, 'womanshirtsleeve': 5, 'womencasualshoes': 6, 'womenchiffontop': 7, 'womendollshoes': 8, 'womenknittedtop': 9, 'womenlazyshoes': 10, 'womenlongsleevetop': 11, 'womenpeashoes': 12, 'womenplussizedtop': 13, 'womenpointedflatshoes': 14, 'womensleevelesstop': 15, 'womenstripedtop': 16, 'wrapsnslings': 17}\n",
      "{'BabyBibs': 0, 'BabyHat': 1, 'BabyPants': 2, 'BabyShirt': 3, 'PackageFart': 4, 'womanshirtsleeve': 5, 'womencasualshoes': 6, 'womenchiffontop': 7, 'womendollshoes': 8, 'womenknittedtop': 9, 'womenlazyshoes': 10, 'womenlongsleevetop': 11, 'womenpeashoes': 12, 'womenplussizedtop': 13, 'womenpointedflatshoes': 14, 'womensleevelesstop': 15, 'womenstripedtop': 16, 'wrapsnslings': 17}\n"
     ]
    }
   ],
   "source": [
    "print(train_generator.class_indices)\n",
    "print(validation_generator.class_indices)"
   ]
  },
  {
   "cell_type": "code",
   "execution_count": 6,
   "metadata": {
    "scrolled": false
   },
   "outputs": [
    {
     "name": "stdout",
     "output_type": "stream",
     "text": [
      "Epoch 1/100\n",
      "955/955 [==============================] - 774s 811ms/step - loss: 1.2894 - acc: 0.5523 - val_loss: 1.2308 - val_acc: 0.5748\n",
      "\n",
      "Epoch 00001: val_acc improved from -inf to 0.57484, saving model to models/main_ResNet18.h5\n",
      "Epoch 2/100\n",
      "955/955 [==============================] - 769s 805ms/step - loss: 1.2378 - acc: 0.5664 - val_loss: 1.4080 - val_acc: 0.5439\n",
      "\n",
      "Epoch 00002: val_acc did not improve\n",
      "Epoch 3/100\n",
      "955/955 [==============================] - 767s 804ms/step - loss: 1.2021 - acc: 0.5806 - val_loss: 1.2474 - val_acc: 0.5697\n",
      "\n",
      "Epoch 00003: val_acc did not improve\n",
      "Epoch 4/100\n",
      "955/955 [==============================] - 769s 805ms/step - loss: 1.1740 - acc: 0.5888 - val_loss: 1.2261 - val_acc: 0.5827\n",
      "\n",
      "Epoch 00004: val_acc improved from 0.57484 to 0.58271, saving model to models/main_ResNet18.h5\n",
      "Epoch 5/100\n",
      "955/955 [==============================] - 770s 807ms/step - loss: 1.1438 - acc: 0.6019 - val_loss: 1.1880 - val_acc: 0.5856\n",
      "\n",
      "Epoch 00005: val_acc improved from 0.58271 to 0.58560, saving model to models/main_ResNet18.h5\n",
      "Epoch 6/100\n",
      "955/955 [==============================] - 772s 809ms/step - loss: 1.1243 - acc: 0.6054 - val_loss: 1.2144 - val_acc: 0.5944\n",
      "\n",
      "Epoch 00006: val_acc improved from 0.58560 to 0.59442, saving model to models/main_ResNet18.h5\n",
      "Epoch 7/100\n",
      "955/955 [==============================] - 770s 806ms/step - loss: 1.1044 - acc: 0.6127 - val_loss: 1.0653 - val_acc: 0.6298\n",
      "\n",
      "Epoch 00007: val_acc improved from 0.59442 to 0.62982, saving model to models/main_ResNet18.h5\n",
      "Epoch 8/100\n",
      "955/955 [==============================] - 773s 809ms/step - loss: 1.0821 - acc: 0.6200 - val_loss: 1.2879 - val_acc: 0.5710\n",
      "\n",
      "Epoch 00008: val_acc did not improve\n",
      "Epoch 9/100\n",
      "955/955 [==============================] - 770s 806ms/step - loss: 1.0600 - acc: 0.6293 - val_loss: 1.1699 - val_acc: 0.6055\n",
      "\n",
      "Epoch 00009: val_acc did not improve\n",
      "Epoch 10/100\n",
      "955/955 [==============================] - 841s 880ms/step - loss: 1.0483 - acc: 0.6310 - val_loss: 1.1019 - val_acc: 0.6160\n",
      "\n",
      "Epoch 00010: val_acc did not improve\n",
      "Epoch 11/100\n",
      "955/955 [==============================] - 771s 807ms/step - loss: 1.0251 - acc: 0.6392 - val_loss: 0.9661 - val_acc: 0.6565\n",
      "\n",
      "Epoch 00011: val_acc improved from 0.62982 to 0.65653, saving model to models/main_ResNet18.h5\n",
      "Epoch 12/100\n",
      "955/955 [==============================] - 770s 806ms/step - loss: 1.0122 - acc: 0.6413 - val_loss: 1.0791 - val_acc: 0.6297\n",
      "\n",
      "Epoch 00012: val_acc did not improve\n",
      "Epoch 13/100\n",
      "955/955 [==============================] - 770s 806ms/step - loss: 0.9883 - acc: 0.6525 - val_loss: 1.3929 - val_acc: 0.5474\n",
      "\n",
      "Epoch 00013: val_acc did not improve\n",
      "Epoch 14/100\n",
      "955/955 [==============================] - 770s 807ms/step - loss: 0.9873 - acc: 0.6546 - val_loss: 1.1920 - val_acc: 0.5965\n",
      "\n",
      "Epoch 00014: val_acc did not improve\n",
      "Epoch 15/100\n",
      "955/955 [==============================] - 769s 806ms/step - loss: 0.9664 - acc: 0.6567 - val_loss: 1.0766 - val_acc: 0.6293\n",
      "\n",
      "Epoch 00015: val_acc did not improve\n",
      "Epoch 16/100\n",
      "955/955 [==============================] - 770s 806ms/step - loss: 0.9550 - acc: 0.6602 - val_loss: 1.0001 - val_acc: 0.6611\n",
      "\n",
      "Epoch 00016: val_acc improved from 0.65653 to 0.66114, saving model to models/main_ResNet18.h5\n",
      "Epoch 17/100\n",
      "955/955 [==============================] - 769s 806ms/step - loss: 0.9428 - acc: 0.6680 - val_loss: 1.1091 - val_acc: 0.6305\n",
      "\n",
      "Epoch 00017: val_acc did not improve\n",
      "Epoch 18/100\n",
      "955/955 [==============================] - 770s 807ms/step - loss: 0.9315 - acc: 0.6716 - val_loss: 1.0343 - val_acc: 0.6547\n",
      "\n",
      "Epoch 00018: val_acc did not improve\n",
      "Epoch 19/100\n",
      "955/955 [==============================] - 771s 808ms/step - loss: 0.9255 - acc: 0.6706 - val_loss: 1.1372 - val_acc: 0.6118\n",
      "\n",
      "Epoch 00019: val_acc did not improve\n",
      "Epoch 20/100\n",
      "955/955 [==============================] - 771s 807ms/step - loss: 0.9120 - acc: 0.6783 - val_loss: 0.9886 - val_acc: 0.6607\n",
      "\n",
      "Epoch 00020: val_acc did not improve\n",
      "Epoch 21/100\n",
      "955/955 [==============================] - 773s 809ms/step - loss: 0.8908 - acc: 0.6858 - val_loss: 0.9490 - val_acc: 0.6659\n",
      "\n",
      "Epoch 00021: val_acc improved from 0.66114 to 0.66588, saving model to models/main_ResNet18.h5\n",
      "Epoch 22/100\n",
      "955/955 [==============================] - 771s 808ms/step - loss: 0.8937 - acc: 0.6836 - val_loss: 0.9344 - val_acc: 0.6735\n",
      "\n",
      "Epoch 00022: val_acc improved from 0.66588 to 0.67351, saving model to models/main_ResNet18.h5\n",
      "Epoch 23/100\n",
      "955/955 [==============================] - 770s 806ms/step - loss: 0.8671 - acc: 0.6941 - val_loss: 1.2593 - val_acc: 0.5814\n",
      "\n",
      "Epoch 00023: val_acc did not improve\n",
      "Epoch 24/100\n",
      "955/955 [==============================] - 769s 805ms/step - loss: 0.8754 - acc: 0.6888 - val_loss: 1.0416 - val_acc: 0.6448\n",
      "\n",
      "Epoch 00024: val_acc did not improve\n",
      "Epoch 25/100\n",
      "955/955 [==============================] - 773s 809ms/step - loss: 0.8629 - acc: 0.6933 - val_loss: 1.1085 - val_acc: 0.6382\n",
      "\n",
      "Epoch 00025: val_acc did not improve\n",
      "Epoch 26/100\n",
      "955/955 [==============================] - 772s 809ms/step - loss: 0.8504 - acc: 0.6978 - val_loss: 0.9670 - val_acc: 0.6668\n",
      "\n",
      "Epoch 00026: val_acc did not improve\n",
      "Epoch 27/100\n",
      "955/955 [==============================] - 771s 807ms/step - loss: 0.8453 - acc: 0.7006 - val_loss: 1.2388 - val_acc: 0.6031\n",
      "\n",
      "Epoch 00027: val_acc did not improve\n",
      "Epoch 28/100\n",
      "955/955 [==============================] - 772s 808ms/step - loss: 0.8364 - acc: 0.7045 - val_loss: 1.3835 - val_acc: 0.5756\n",
      "\n",
      "Epoch 00028: val_acc did not improve\n",
      "Epoch 29/100\n",
      "955/955 [==============================] - 772s 808ms/step - loss: 0.8237 - acc: 0.7040 - val_loss: 0.8985 - val_acc: 0.6917\n",
      "\n",
      "Epoch 00029: val_acc improved from 0.67351 to 0.69167, saving model to models/main_ResNet18.h5\n",
      "Epoch 30/100\n",
      "955/955 [==============================] - 841s 880ms/step - loss: 0.8204 - acc: 0.7074 - val_loss: 0.9176 - val_acc: 0.6935\n",
      "\n",
      "Epoch 00030: val_acc improved from 0.69167 to 0.69351, saving model to models/main_ResNet18.h5\n",
      "Epoch 31/100\n",
      "955/955 [==============================] - 784s 821ms/step - loss: 0.8137 - acc: 0.7129 - val_loss: 1.0599 - val_acc: 0.6442\n",
      "\n",
      "Epoch 00031: val_acc did not improve\n",
      "Epoch 32/100\n",
      "955/955 [==============================] - 771s 807ms/step - loss: 0.8017 - acc: 0.7107 - val_loss: 1.0978 - val_acc: 0.6313\n",
      "\n",
      "Epoch 00032: val_acc did not improve\n",
      "Epoch 33/100\n",
      "955/955 [==============================] - 771s 807ms/step - loss: 0.7977 - acc: 0.7155 - val_loss: 1.2859 - val_acc: 0.5903\n",
      "\n",
      "Epoch 00033: val_acc did not improve\n",
      "Epoch 34/100\n",
      "955/955 [==============================] - 771s 807ms/step - loss: 0.7894 - acc: 0.7156 - val_loss: 1.2173 - val_acc: 0.5952\n",
      "\n",
      "Epoch 00034: val_acc did not improve\n",
      "Epoch 35/100\n",
      "955/955 [==============================] - 769s 805ms/step - loss: 0.7802 - acc: 0.7196 - val_loss: 0.9468 - val_acc: 0.6785\n",
      "\n",
      "Epoch 00035: val_acc did not improve\n",
      "Epoch 36/100\n",
      "955/955 [==============================] - 772s 809ms/step - loss: 0.7772 - acc: 0.7223 - val_loss: 1.0621 - val_acc: 0.6368\n",
      "\n",
      "Epoch 00036: val_acc did not improve\n",
      "Epoch 37/100\n",
      "955/955 [==============================] - 769s 805ms/step - loss: 0.7693 - acc: 0.7256 - val_loss: 1.3621 - val_acc: 0.5778\n",
      "\n",
      "Epoch 00037: val_acc did not improve\n",
      "Epoch 38/100\n",
      "955/955 [==============================] - 771s 808ms/step - loss: 0.7611 - acc: 0.7249 - val_loss: 0.9197 - val_acc: 0.6907\n",
      "\n",
      "Epoch 00038: val_acc did not improve\n",
      "Epoch 39/100\n",
      "955/955 [==============================] - 769s 806ms/step - loss: 0.7534 - acc: 0.7316 - val_loss: 1.1514 - val_acc: 0.6211\n",
      "\n",
      "Epoch 00039: val_acc did not improve\n",
      "Epoch 40/100\n",
      "955/955 [==============================] - 772s 809ms/step - loss: 0.7509 - acc: 0.7301 - val_loss: 0.9554 - val_acc: 0.6757\n",
      "\n",
      "Epoch 00040: val_acc did not improve\n",
      "Epoch 00040: early stopping\n"
     ]
    }
   ],
   "source": [
    "H = model.fit_generator(\n",
    "    train_generator,\n",
    "    steps_per_epoch = nb_train_samples // batch_size,\n",
    "    epochs = epochs,\n",
    "    validation_data = validation_generator,\n",
    "    validation_steps = nb_validation_samples // batch_size,\n",
    "    callbacks = [checkpoint, early])"
   ]
  },
  {
   "cell_type": "code",
   "execution_count": 9,
   "metadata": {},
   "outputs": [
    {
     "data": {
      "image/png": "[encoded data removed]",
      "text/plain": [
       "<matplotlib.figure.Figure at 0x12c9b2630>"
      ]
     },
     "metadata": {},
     "output_type": "display_data"
    }
   ],
   "source": [
    "import numpy as np\n",
    "plt.style.use(\"ggplot\")\n",
    "plt.figure()\n",
    "N = 40\n",
    "# plt.plot(np.arange(0, N), H.history[\"loss\"], label=\"train_loss\")\n",
    "# plt.plot(np.arange(0, N), H.history[\"val_loss\"], label=\"val_loss\")\n",
    "plt.plot(np.arange(0, N), H.history[\"acc\"], label=\"train_acc\")\n",
    "plt.plot(np.arange(0, N), H.history[\"val_acc\"], label=\"val_acc\")\n",
    "plt.title(\"Training Accuracy\")\n",
    "plt.xlabel(\"Epoch #\")\n",
    "plt.ylabel(\"Accuracy\")\n",
    "plt.legend(loc=\"upper left\")\n",
    "plt.savefig('main_ResNet18.png')\n",
    "plt.show()"
   ]
  },
  {
   "cell_type": "markdown",
   "metadata": {},
   "source": [
    "## Further test"
   ]
  },
  {
   "cell_type": "code",
   "execution_count": 10,
   "metadata": {},
   "outputs": [
    {
     "name": "stdout",
     "output_type": "stream",
     "text": [
      "Found 7631 images belonging to 18 classes.\n"
     ]
    }
   ],
   "source": [
    "model = load_model('models/main_ResNet18.h5')\n",
    "\n",
    "eval_datagen = image.ImageDataGenerator(rescale=1./255)\n",
    "\n",
    "eval_generator = eval_datagen.flow_from_directory(\n",
    "        validation_data_dir,\n",
    "        target_size=(img_height, img_width),\n",
    "        batch_size=batch_size,\n",
    "        color_mode='grayscale',\n",
    "        class_mode='categorical')"
   ]
  },
  {
   "cell_type": "code",
   "execution_count": 11,
   "metadata": {},
   "outputs": [
    {
     "name": "stdout",
     "output_type": "stream",
     "text": [
      "Loss = 0.9230877134729835\n",
      "Test Accuracy = 0.692358193277311\n"
     ]
    }
   ],
   "source": [
    "preds = model.evaluate_generator(\n",
    "    eval_generator,\n",
    "    steps = nb_validation_samples // batch_size)\n",
    "print (\"Loss = \" + str(preds[0]))\n",
    "print (\"Test Accuracy = \" + str(preds[1]))"
   ]
  },
  {
   "cell_type": "code",
   "execution_count": null,
   "metadata": {},
   "outputs": [],
   "source": [
    "# plot_model(model, to_file='model.png')\n",
    "SVG(model_to_dot(model).create(prog='dot', format='svg'))"
   ]
  },
  {
   "cell_type": "code",
   "execution_count": null,
   "metadata": {},
   "outputs": [],
   "source": []
  }
 ],
 "metadata": {
  "coursera": {
   "course_slug": "convolutional-neural-networks",
   "graded_item_id": "OEpi5",
   "launcher_item_id": "jK9EQ"
  },
  "kernelspec": {
   "display_name": "Python 3",
   "language": "python",
   "name": "python3"
  },
  "language_info": {
   "codemirror_mode": {
    "name": "ipython",
    "version": 3
   },
   "file_extension": ".py",
   "mimetype": "text/x-python",
   "name": "python",
   "nbconvert_exporter": "python",
   "pygments_lexer": "ipython3",
   "version": "3.6.4"
  }
 },
 "nbformat": 4,
 "nbformat_minor": 2
}
